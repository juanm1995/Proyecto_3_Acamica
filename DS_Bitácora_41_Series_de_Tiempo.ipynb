{
  "nbformat": 4,
  "nbformat_minor": 0,
  "metadata": {
    "kernelspec": {
      "display_name": "Python 3",
      "language": "python",
      "name": "python3"
    },
    "language_info": {
      "codemirror_mode": {
        "name": "ipython",
        "version": 3
      },
      "file_extension": ".py",
      "mimetype": "text/x-python",
      "name": "python",
      "nbconvert_exporter": "python",
      "pygments_lexer": "ipython3",
      "version": "3.8.2"
    },
    "colab": {
      "name": "DS_Bitácora_41_Series_de_Tiempo.ipynb",
      "provenance": []
    }
  },
  "cells": [
    {
      "cell_type": "markdown",
      "metadata": {
        "id": "niCPX4jb_PcB"
      },
      "source": [
        "# Series de Tiempo\n",
        "\n",
        "## 0. Fechas\n",
        "\n",
        "En programación es fundamental trabajar con fechas y horas. Pero basta un poco de reflexión al respecto para ver que no es, en principio, tan inmediato como sumar y restar números. Sumar horas puede hacer que cambiemos de día, mes y hasta año. Catorce días luego del 15 de Febrero puede dar como resultado el 01 de Marzo o el 29 de Febrero si se trata de un año bisiesto. \n",
        "\n",
        "El famoso [Error del Milenio](https://en.wikipedia.org/wiki/Year_2000_problem) era un problema de fechas. Si bien no significó el fin del mundo, sí trajo algunos problemas (por suerte menores) y dolores de cabeza. Esto fue gacias a todas las personas que trabajaron para evitar mayores inconvenientes. Sin embargo, no se trata de un problema resuelto. Tenemos, hacia adelante, el [problema del año 2038](https://en.wikipedia.org/wiki/Year_2038_problem), pero sus inconvenientes ya [están aquí](https://nitter.net/jxxf/status/1219009308438024200). Un problema similar ocurrió en [algunos dispositivos GPS durante 2019](https://www.theverge.com/2019/3/8/18255847/gps-week-rollover-issue-2019-garmin-tomtom-devices-affected).\n",
        "\n",
        "Otros problemas más mundanos involucran el formato en el que solemos encontrar fechas. Por ejemplo, en muchos países es común escribir Día - Mes - Año (DD - MM - YYYY), mientras que en EEUU es común Mes - Día - Año (MM - DD - YYYY). Desde un punto de vista computacional, es más cómodo Año - Mes - Día (YYYY - MM - DD), ya que eso permite ordenar fácilmente de menor a mayor. Eso sin considerar husos horarios, cambios en horario de verano e invierno, y un innumerable conjunto de problemas más. \n",
        "\n",
        "En Series de Tiempo - como te imaginarás - también es fundamental trabajar con fechas y horas. Solemos tener que prestar atención a cómo figura la fecha en nuestros datos y cómo adaptarla a un formato único para todas las fuentes de datos que vayamos a usar. Luego, tenemos que poder operar con esas fechas y horas. \n",
        "\n",
        "Por suerte, todos los lenguajes de programación cuentan con módulos para trabajar con fechas y horas. En Python, el módulo estándar es `datetime`. No entraremos en grandes detalles sobre cómo es su uso, solamente haremos algunas demostraciones en las siguientes celdas. Pero sí te recomendamos googlear cómo operar con este módulo cuando estés trabajando con fechas, ya que muchos problemas con los que uno se encuentra ya están resueltos. Te dejamos una muy buena introducción al módulo [aquí](https://realpython.com/python-datetime/).\n",
        "\n",
        "El módulo `datetime` cuenta con una clase principal, `datetime` (se llama igual que el módulo)"
      ]
    },
    {
      "cell_type": "code",
      "metadata": {
        "id": "wpvTsyYF_PcK"
      },
      "source": [
        "import datetime\n",
        "\n",
        "una_fecha = datetime.datetime(year=2020, month=7, day=27)\n",
        "una_fecha"
      ],
      "execution_count": null,
      "outputs": []
    },
    {
      "cell_type": "markdown",
      "metadata": {
        "id": "P_SksJgv_PcL"
      },
      "source": [
        "Pero si imprimimos"
      ]
    },
    {
      "cell_type": "code",
      "metadata": {
        "id": "Yvf1FRkV_PcL"
      },
      "source": [
        "print(una_fecha)"
      ],
      "execution_count": null,
      "outputs": []
    },
    {
      "cell_type": "markdown",
      "metadata": {
        "id": "3GreE4IF_PcM"
      },
      "source": [
        "Notar que también tiene lugar para el horario"
      ]
    },
    {
      "cell_type": "code",
      "metadata": {
        "id": "Cu2uBVXT_PcN"
      },
      "source": [
        "una_fecha = datetime.datetime(year=2020, month=7, day=27, hour = 7, minute = 30)\n",
        "print(una_fecha)"
      ],
      "execution_count": null,
      "outputs": []
    },
    {
      "cell_type": "markdown",
      "metadata": {
        "id": "znhKUaZ7_PcN"
      },
      "source": [
        "Dentro de sus atributos, podemos resaltar `date` y `time`, que **también son clases dentro del módulo**."
      ]
    },
    {
      "cell_type": "code",
      "metadata": {
        "id": "SZunfVMt_PcO"
      },
      "source": [
        "print(una_fecha.date())\n",
        "una_fecha.date()"
      ],
      "execution_count": null,
      "outputs": []
    },
    {
      "cell_type": "code",
      "metadata": {
        "id": "bc3iYHOq_PcO"
      },
      "source": [
        "print(una_fecha.time())\n",
        "una_fecha.time()"
      ],
      "execution_count": null,
      "outputs": []
    },
    {
      "cell_type": "markdown",
      "metadata": {
        "id": "Ev6WnEF1_PcO"
      },
      "source": [
        "`datetime` ya sabe operar con fechas. Por ejemplo, podemos sumar días y horas a `una_fecha`"
      ]
    },
    {
      "cell_type": "code",
      "metadata": {
        "id": "O1LAw8l0_PcP"
      },
      "source": [
        "print(una_fecha + datetime.timedelta(days = 40, hours = 10))"
      ],
      "execution_count": null,
      "outputs": []
    },
    {
      "cell_type": "markdown",
      "metadata": {
        "id": "WPriuJtC_PcP"
      },
      "source": [
        "Una funcionalidad sumamente útil es crear objetos `datetime` a partir de texto (strings) con el método `strptime()`"
      ]
    },
    {
      "cell_type": "code",
      "metadata": {
        "id": "4KYZcaA4_PcP"
      },
      "source": [
        "fecha_en_string = '2019-08-27'\n",
        "print(datetime.datetime.strptime(fecha_en_string, '%Y-%m-%d'))"
      ],
      "execution_count": null,
      "outputs": []
    },
    {
      "cell_type": "code",
      "metadata": {
        "id": "-KiNpH60_PcQ"
      },
      "source": [
        "fecha_en_string = '2019-08-27 15:30:10' # este es un formato sumamente estándar\n",
        "print(datetime.datetime.strptime(fecha_en_string, '%Y-%m-%d %H:%M:%S'))"
      ],
      "execution_count": null,
      "outputs": []
    },
    {
      "cell_type": "markdown",
      "metadata": {
        "id": "fXR3cgq1_PcQ"
      },
      "source": [
        "Para cualquier formato de fechas que encuentes, siempre encontrarás una forma de que el módulo lo reconozca.\n",
        "\n",
        "También existe su contraparte, `strftime()`, para llevar de `datetime` a texto"
      ]
    },
    {
      "cell_type": "code",
      "metadata": {
        "id": "afXdOlD-_PcQ"
      },
      "source": [
        "print(una_fecha.strftime('%Y-%m-%d %H:%M:%S'))\n",
        "print(una_fecha.strftime('%H:%M:%S %d-%m-%Y'))"
      ],
      "execution_count": null,
      "outputs": []
    },
    {
      "cell_type": "markdown",
      "metadata": {
        "id": "dKJILL4c_PcR"
      },
      "source": [
        "Las funcionalidades son muchas y no vale la pena que las expliquemos todas acá. Pero, insistimos en una cosa: cualquier problema con el que te encuentres, en el 99.99% de los casos alguien ya lo tuvo y lo resolvió. Lo más probable es que hasta se trate de un método ya incorporado. Así que vale la pena investigar a medida que necesites operar con fechas y horarios.\n",
        "\n",
        "**Para investigar:** ¿qué es el *Epoch Time*?\n",
        "\n",
        "## 1. Análisis Exploratorio de Datos\n",
        "\n",
        "Ahora sí, arranquemos con Series de Tiempo. Vamos a trabajar con un dataset de temperaturas históricas en la ciudad de Buenos Aires."
      ]
    },
    {
      "cell_type": "code",
      "metadata": {
        "id": "gfkr4Cs1_PcR"
      },
      "source": [
        "import pandas as pd\n",
        "import numpy as np\n",
        "import matplotlib.pyplot as plt\n",
        "import seaborn as sns\n",
        "sns.set()\n"
      ],
      "execution_count": null,
      "outputs": []
    },
    {
      "cell_type": "code",
      "metadata": {
        "id": "a_xYonEK_PcR"
      },
      "source": [
        "data = pd.read_csv('DS_Bitácora_41_Temperatura.csv')\n",
        "data.head()"
      ],
      "execution_count": null,
      "outputs": []
    },
    {
      "cell_type": "markdown",
      "metadata": {
        "id": "NMfNoL-C_PcS"
      },
      "source": [
        "Si bien está la información de las fechas en ese dataset, no está en un formata fecha como `datetime`. Pandas incorpora varias funcionalidades para trabajar con fechas y horarios, que puedes investigar [aquí](https://jakevdp.github.io/PythonDataScienceHandbook/03.11-working-with-time-series.html) (tenlo a mano pero no hace falta que lo leas ahora).\n",
        "\n",
        "Usaremos la función `to_datetime` para agregar una columna con las fechas."
      ]
    },
    {
      "cell_type": "code",
      "metadata": {
        "id": "O-NyDX-t_PcS"
      },
      "source": [
        "data['fecha'] = pd.to_datetime({'year':data.anio, 'month': data.mes, 'day': data.dia})\n",
        "data.head()"
      ],
      "execution_count": null,
      "outputs": []
    },
    {
      "cell_type": "markdown",
      "metadata": {
        "id": "61tHiftm_PcS"
      },
      "source": [
        "Grafiquemos las series:"
      ]
    },
    {
      "cell_type": "code",
      "metadata": {
        "id": "oFmwvAIe_PcT"
      },
      "source": [
        "plt.figure(figsize = (15,5))\n",
        "plt.plot(data.fecha, data.Tmax, label = 'Temperatura Máxima')\n",
        "plt.plot(data.fecha, data.Tmin, label = 'Temperatura Mínima')\n",
        "plt.legend()\n",
        "plt.xlabel('Fecha')\n",
        "plt.ylabel('Temperatura (°C)')\n",
        "# plt.ylim(-10,40)\n",
        "plt.show()"
      ],
      "execution_count": null,
      "outputs": []
    },
    {
      "cell_type": "markdown",
      "metadata": {
        "id": "yL-Wcqud_PcT"
      },
      "source": [
        "¿Te parece que hay valores atípicos? Modifica el gráfico para que los valores atípicos no impidan su visualización. ¿Hay estacionalidad?\n",
        "\n",
        "Las series de tiempo de temperatura se ven \"ruidosas\" o saturadas. Notar que tenemos temperaturas diarias (frecuencia diaria) para una ventana de tiempo de aproximadamente 50 años. Esto hace que el gráfico se sature. Una opción cómoda en estos casos es resamplear la serie a una frecuencia menor, por ejemplo semanal, para suavizar el gráfico."
      ]
    },
    {
      "cell_type": "code",
      "metadata": {
        "id": "KjWYm9T4_PcT"
      },
      "source": [
        "semanal = data.resample('W', on = 'fecha').mean()\n",
        "semanal.head()"
      ],
      "execution_count": null,
      "outputs": []
    },
    {
      "cell_type": "markdown",
      "metadata": {
        "id": "o6S5wWjT_PcU"
      },
      "source": [
        "La información que hay ahora en las columnas `día`, `mes` y `anio` no tiene mucho sentido, así que las tiramos."
      ]
    },
    {
      "cell_type": "code",
      "metadata": {
        "id": "UwRi55Gj_PcU"
      },
      "source": [
        "semanal.drop(columns = ['dia', 'mes', 'anio'], inplace = True)\n",
        "semanal.head()"
      ],
      "execution_count": null,
      "outputs": []
    },
    {
      "cell_type": "code",
      "metadata": {
        "id": "5VeL1_8n_PcU"
      },
      "source": [
        "plt.figure(figsize = (15,5))\n",
        "plt.plot(semanal.index, semanal.Tmax, label = 'Temperatura Maxima')\n",
        "plt.plot(semanal.index, semanal.Tmin, label = 'Temperatura Minima')\n",
        "plt.xlabel('Fecha')\n",
        "plt.ylabel('Temperatura (°C)')\n",
        "# plt.xlim(datetime.date(1990,1,1), datetime.date(2018,1,1))\n",
        "# plt.ylim(-10,40)\n",
        "plt.legend()\n",
        "plt.show()"
      ],
      "execution_count": null,
      "outputs": []
    },
    {
      "cell_type": "markdown",
      "metadata": {
        "id": "GnTXGUBv_PcU"
      },
      "source": [
        "**Para pensar y probar**: \n",
        "1. ¿Qué pasó con los valores atípicos?¿Cómo los sacarías?\n",
        "1. ¿Puedes ver estacionalidad y tendencia?\n",
        "1. ¿Hay valores faltantes? Ten en cuenta que pueden haber dos tipos de valores faltantes. Uno corresponde a una fecha sin su valor de temperatura (es decir, está la fecha, no la temperatura). El otro corresponde a una fecha que no está (no está la fecha ni la temperatura). En ese caso, **no aparecerá con `isna()`.** ¿Cómo los encontrarías? [Pista](https://stackoverflow.com/questions/56040743/check-if-list-of-dates-is-complete-in-python-using-pandas). ¿Cómo los imputarías (cualquiera de los dos casos)?\n",
        "\n",
        "\n",
        "**Ejercicio:** resamplea la serie a frecuencia mensual y grafica."
      ]
    },
    {
      "cell_type": "code",
      "metadata": {
        "id": "6taTY5xM_PcV"
      },
      "source": [
        "# COMPLETAR"
      ],
      "execution_count": null,
      "outputs": []
    },
    {
      "cell_type": "code",
      "metadata": {
        "id": "QNiyaCxB_PcV"
      },
      "source": [
        "# COMPLETAR"
      ],
      "execution_count": null,
      "outputs": []
    },
    {
      "cell_type": "markdown",
      "metadata": {
        "id": "lR8-nosZ_PcW"
      },
      "source": [
        "## 2. Componentes de la Serie\n",
        "\n",
        "Obtener componentes de una Serie de Tiempo es un tema amplio y, como siempre, depende del problema en el que estás trabajando. Algunas series se comportan como $Tendencia + Estacionalidad + Ruido$, mientras que otras tienen comportamientos más complejos, como $Tendencia * Estacionalidad + Ruido$. Existen muchas formas de obtener las componentes, pero no todas funcionarán en todos los casos. Además, cada técnica tiene sus ventajas y desventajas. Vamos a hacer una enumeración y demostración no exhaustiva de algunos métodos, simplemente para que te lleves una idea de qué cosas se pueden hacer fácilmente.\n",
        "\n",
        "* El método más sencillo se conoce como *media móvil*. Consiste en tomar una ventana de tiempo suficientemente grande y promediar la serie sobre esa ventana. De esta forma, obtienes la tendencia. Tomate un tiempo para pensar qué significa *suficientemente grande*. Una característica de este método es que no asume ninguna forma para la serie de tiempo - a diferencia del que te contaremos a continuación - así que suele funcionar en muchos casos.\n",
        "\n",
        "* Supongamos que tienes motivos para creer que la tendencia sigue un comportamiento lineal. Entonces, basta con ajustar una regresión lineal a la serie (antes también la puedes haber promediado con el método anterior) para obtener la tendencia. Este método también sirve si tienes motivos para creer que la tendencia sigue una forma arbitraria pero conocida (por ejemplo, cuadrática, exponencial, tipo seno o coseno, etc.).\n",
        "\n",
        "Una vez que obtienes la tendencia, en ambos casos puedes tomar la serie original, restar la tendencia y obtener una nueva serie sin tendencia, donde esperamos que sea la componente estacional la que domine.\n",
        "\n",
        "Luego, para obtener componentes estacionales, se suele asumir una forma armónica (tipo seno o coseno). Es decir, se puede hacer un procedimiento similar al que hiciste con la tendencia (ajustar y restar a la serie sin tendencia) para obtener ruido + componentes restantes.\n",
        "\n",
        "Veamos un poco como se traduce esto en el código.\n",
        "\n",
        "**Media movil**\n",
        "\n",
        "El proceso de tomar una ventana, trasladarlo a lo largo de una serie de tiempo y hacer alguna operación en esa ventana se conoce como *rolling window*. En general, se utiliza junto con la media, pero también se podría obtener el máximo, mínimo o cualquier otro estadístico.\n",
        "\n",
        "Vamos a operar sobre la serie semanal promedio. Comenzamos sacando outliers y rellenando valores faltantes. ¿Qué hace la función `interpolate`?"
      ]
    },
    {
      "cell_type": "code",
      "metadata": {
        "id": "X7YoNgqM_PcX"
      },
      "source": [
        "semanal.Tmax[semanal.Tmax > 50] = np.nan\n",
        "semanal.Tmin[semanal.Tmin > 50] = np.nan"
      ],
      "execution_count": null,
      "outputs": []
    },
    {
      "cell_type": "code",
      "metadata": {
        "id": "Vw-fp1RR_PcY"
      },
      "source": [
        "print(semanal.isna().sum())\n",
        "semanal = semanal.interpolate()\n",
        "print(semanal.isna().sum())"
      ],
      "execution_count": null,
      "outputs": []
    },
    {
      "cell_type": "code",
      "metadata": {
        "id": "5Zb-VX79_PcY"
      },
      "source": [
        "semanal['Tmean'] = (semanal.Tmax + semanal.Tmin)/2\n",
        "semanal"
      ],
      "execution_count": null,
      "outputs": []
    },
    {
      "cell_type": "code",
      "metadata": {
        "id": "vyH1D0cK_PcY"
      },
      "source": [
        "ventana = int(365*2/7)\n",
        "semanal_promedio_tendencia = semanal.Tmean.rolling(window=ventana, center = True).mean()\n",
        "semanal_promedio_tendencia"
      ],
      "execution_count": null,
      "outputs": []
    },
    {
      "cell_type": "markdown",
      "metadata": {
        "id": "Xqb1HibN_PcZ"
      },
      "source": [
        "¿Por qué aparecen tanto valores faltantes?¿Cuántos son?¿A qué corresponde?\n",
        "\n",
        "Grafiquemos"
      ]
    },
    {
      "cell_type": "code",
      "metadata": {
        "id": "R-RwulwW_Pca"
      },
      "source": [
        "plt.figure(figsize = (15,5))\n",
        "plt.plot(semanal.index, semanal.Tmean, label = 'Temperatura Promedio')\n",
        "plt.plot(semanal_promedio_tendencia, lw = 4, label = 'Temperatura Promedio - Rolling Window')\n",
        "plt.xlabel('Fecha')\n",
        "plt.ylabel('Temperatura (°C)')\n",
        "plt.legend()\n",
        "plt.show()"
      ],
      "execution_count": null,
      "outputs": []
    },
    {
      "cell_type": "markdown",
      "metadata": {
        "id": "qKGpZIAI_Pca"
      },
      "source": [
        "**Tendencia Lineal**\n",
        "\n",
        "Este método consiste simplemente en ajustar una regresión lineal a la serie. Ten en cuenta que la validez de este método es muy limitada.\n",
        "\n",
        "Para comenzar, lo único que tenemos que tener en cuenta es que no podemos ajustar una regresión lineal con las fechas así como las tenemos, por lo que tenemos que pasarlas a un formato numérico."
      ]
    },
    {
      "cell_type": "code",
      "metadata": {
        "id": "6a9M-s5I_Pcb"
      },
      "source": [
        "semanal['fecha_numeros']=semanal.index.map(datetime.datetime.toordinal)\n",
        "semanal.head()"
      ],
      "execution_count": null,
      "outputs": []
    },
    {
      "cell_type": "code",
      "metadata": {
        "id": "Xzkvx6zX_Pcb"
      },
      "source": [
        "from sklearn.linear_model import LinearRegression\n",
        "lr = LinearRegression()\n",
        "lr.fit(semanal.fecha_numeros.values.reshape(-1, 1), semanal.Tmean)"
      ],
      "execution_count": null,
      "outputs": []
    },
    {
      "cell_type": "code",
      "metadata": {
        "id": "2k59vSq4_Pcb"
      },
      "source": [
        "plt.figure(figsize = (15,5))\n",
        "plt.plot(semanal.index, semanal.Tmean, label = 'Temperatura Promedio')\n",
        "plt.plot(semanal_promedio_tendencia, ls = '--', lw = 4, label = 'Temperatura Promedio - Rolling Window')\n",
        "plt.plot(semanal.index, lr.predict(semanal.fecha_numeros.values.reshape(-1, 1)), lw = 4, label = 'Temperatura Promedio - Ajuste Lineal')\n",
        "# plt.xlim(datetime.date(1985,1,1), datetime.date(2018,1,1))\n",
        "# plt.ylim([0,30])\n",
        "plt.xlabel('Fecha')\n",
        "plt.ylabel('Temperatura (°C)')\n",
        "plt.legend()\n",
        "plt.show()"
      ],
      "execution_count": null,
      "outputs": []
    },
    {
      "cell_type": "markdown",
      "metadata": {
        "id": "Zp3H0Bn6_Pcb"
      },
      "source": [
        "¿Qué conclusiones sacarías de ese gráfico?\n",
        "\n",
        "Falta obtener las restantes componentes. "
      ]
    },
    {
      "cell_type": "code",
      "metadata": {
        "id": "8IqB7Bel_Pcc"
      },
      "source": [
        "plt.figure(figsize = (12,9))\n",
        "\n",
        "plt.subplot(3,1,1)\n",
        "plt.title('Serie Original')\n",
        "plt.plot(semanal.index, semanal.Tmean)\n",
        "plt.ylabel('Temperatura (°C)')\n",
        "\n",
        "plt.subplot(3,1,2)\n",
        "plt.title('Tendencia Rolling Window')\n",
        "plt.plot(semanal_promedio_tendencia)\n",
        "plt.ylabel('Temperatura (°C)')\n",
        "\n",
        "plt.subplot(3,1,3)\n",
        "plt.title('Diferencia entre la serie original y la tendencia')\n",
        "plt.plot(semanal.index, semanal.Tmean - semanal_promedio_tendencia)\n",
        "plt.xlabel('Fecha')\n",
        "plt.ylabel('Temperatura (°C)')\n",
        "\n",
        "plt.tight_layout()\n",
        "plt.show()\n"
      ],
      "execution_count": null,
      "outputs": []
    },
    {
      "cell_type": "markdown",
      "metadata": {
        "id": "f0UI8Qhc_Pcc"
      },
      "source": [
        "Una forma común de interpretar las componentes es parándose en la tendencia y diferenciar el aporte de cada estación. Por ejemplo, podríamos decir que la temperatura promedio de Buenos Aires es de alrededor de 17 grados centígrados, con una componente estacional del orden de -7 grados en invierno y del orden de +7 grados en verano.\n",
        "\n",
        "Para finalizar, existen varias librerías que ya incorporan técnicas para descomponer series. Una muy conocida es [Statsmodels](https://www.statsmodels.org/stable/index.html), que cuenta con muchas herramientas para análisis estadísticos. Otra, exclusiva de Series de Tiempo y más nueva, es [Prophet](https://facebook.github.io/prophet/), desarrollada por Facebook. En este notebook, mostraremos brevemente el uso de Statsmodels, en el siguiente el de Prophet. Como siempre, es fundamental tener la documentación a mano."
      ]
    },
    {
      "cell_type": "code",
      "metadata": {
        "id": "XttHaNlm_Pcc"
      },
      "source": [
        "from statsmodels.tsa.seasonal import seasonal_decompose\n",
        "\n",
        "result = seasonal_decompose(semanal.Tmean, model='additive')\n",
        "# result.plot()\n",
        "# pyplot.show()"
      ],
      "execution_count": null,
      "outputs": []
    },
    {
      "cell_type": "code",
      "metadata": {
        "id": "pvwSiSIt_Pcc"
      },
      "source": [
        "result.trend"
      ],
      "execution_count": null,
      "outputs": []
    },
    {
      "cell_type": "code",
      "metadata": {
        "id": "hO-jIeQk_Pcd"
      },
      "source": [
        "result.seasonal"
      ],
      "execution_count": null,
      "outputs": []
    },
    {
      "cell_type": "markdown",
      "metadata": {
        "id": "OVUZMKF4_Pce"
      },
      "source": [
        "Grafiquemos."
      ]
    },
    {
      "cell_type": "code",
      "metadata": {
        "id": "6pLAKa6v_Pce"
      },
      "source": [
        "import matplotlib\n",
        "matplotlib.rcParams['figure.figsize'] = [12,12]\n",
        "result.plot()\n",
        "plt.show()"
      ],
      "execution_count": null,
      "outputs": []
    },
    {
      "cell_type": "markdown",
      "metadata": {
        "id": "4zMrnsIr_Pcf"
      },
      "source": [
        "**Ejercicio:** Compara estos gráficos con los que obtuvimos antes y estudia cuál es la diferencia.\n",
        "\n",
        "**Ejercicio:** Haz un histograma de los residuos (último gráfico). Recuerda lo que mencionamos en las bitácoras de regresión y decide si el modelo ajustado es apropiado."
      ]
    }
  ]
}